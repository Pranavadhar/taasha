{
  "nbformat": 4,
  "nbformat_minor": 0,
  "metadata": {
    "colab": {
      "provenance": [],
      "gpuType": "T4"
    },
    "kernelspec": {
      "name": "python3",
      "display_name": "Python 3"
    },
    "language_info": {
      "name": "python"
    },
    "accelerator": "GPU"
  },
  "cells": [
    {
      "cell_type": "code",
      "source": [
        "import pandas as pd\n",
        "import numpy as np\n",
        "from sklearn.preprocessing import MinMaxScaler\n",
        "import tensorflow as tf\n",
        "from datetime import datetime, timedelta"
      ],
      "metadata": {
        "id": "BoWoQIyQ-d9P"
      },
      "execution_count": 1,
      "outputs": []
    },
    {
      "cell_type": "code",
      "source": [
        "def preprocess_data(df):\n",
        "    df['Timestamp'] = pd.to_datetime(df['Timestamp'])\n",
        "    df['Timestamp'] = df['Timestamp'].astype(np.int64) // 10**9\n",
        "    return df"
      ],
      "metadata": {
        "id": "DCaeNXGR-jM5"
      },
      "execution_count": 2,
      "outputs": []
    },
    {
      "cell_type": "code",
      "source": [
        "def random_sampler(df, target_size=10000):\n",
        "    indices = np.random.choice(len(df), size=target_size, replace=True)\n",
        "    return df.iloc[indices].reset_index(drop=True)"
      ],
      "metadata": {
        "id": "_ST21pVg-myk"
      },
      "execution_count": 3,
      "outputs": []
    },
    {
      "cell_type": "code",
      "source": [
        "def gaussian_noise_sampling(df, target_size=10000, noise_factor=0.05):\n",
        "    samples = []\n",
        "    while len(samples) < target_size:\n",
        "        idx = np.random.randint(0, len(df))\n",
        "        sample = df.iloc[idx].copy()\n",
        "        noise = np.random.normal(0, noise_factor, size=len(df.columns))\n",
        "        for i, col in enumerate(df.columns):\n",
        "            if col != 'Timestamp':\n",
        "                sample[col] *= (1 + noise[i])\n",
        "        samples.append(sample)\n",
        "    return pd.DataFrame(samples, columns=df.columns)"
      ],
      "metadata": {
        "id": "sTMB9J9h-onf"
      },
      "execution_count": 4,
      "outputs": []
    },
    {
      "cell_type": "code",
      "source": [
        "def interpolation_sampling(df, target_size=10000):\n",
        "    samples = []\n",
        "    while len(samples) < target_size:\n",
        "        idx1, idx2 = np.random.randint(0, len(df), size=2)\n",
        "        alpha = np.random.random()\n",
        "\n",
        "        sample = pd.Series(index=df.columns)\n",
        "        for col in df.columns:\n",
        "            if col == 'Timestamp':\n",
        "                sample[col] = int(df.iloc[idx1][col] + alpha * (df.iloc[idx2][col] - df.iloc[idx1][col]))\n",
        "            else:\n",
        "                sample[col] = df.iloc[idx1][col] + alpha * (df.iloc[idx2][col] - df.iloc[idx1][col])\n",
        "        samples.append(sample)\n",
        "    return pd.DataFrame(samples)"
      ],
      "metadata": {
        "id": "BG9PNQ8e-q2I"
      },
      "execution_count": 5,
      "outputs": []
    },
    {
      "cell_type": "code",
      "source": [
        "def bootstrap_sampling(df, target_size=10000, window_size=5):\n",
        "    samples = []\n",
        "    while len(samples) < target_size:\n",
        "        start_idx = np.random.randint(0, len(df) - window_size)\n",
        "        window = df.iloc[start_idx:start_idx + window_size]\n",
        "\n",
        "        new_sample = window.mean()\n",
        "        noise = np.random.normal(0, 0.01, size=len(df.columns))\n",
        "        for i, col in enumerate(df.columns):\n",
        "            if col != 'Timestamp':\n",
        "                new_sample[col] *= (1 + noise[i])\n",
        "\n",
        "        samples.append(new_sample)\n",
        "    return pd.DataFrame(samples)"
      ],
      "metadata": {
        "id": "3WLyJ0Gu-tEd"
      },
      "execution_count": 6,
      "outputs": []
    },
    {
      "cell_type": "code",
      "source": [
        "def evaluate_correlation(original_df, generated_df, method_name):\n",
        "    original_corr = original_df.corr()\n",
        "    generated_corr = generated_df.corr()\n",
        "    correlation_diff = abs(original_corr - generated_corr).mean().mean()\n",
        "    print(f\"{method_name} - Mean Correlation Difference: {correlation_diff}\")\n",
        "    return correlation_diff"
      ],
      "metadata": {
        "id": "kpW8wwhE-vF1"
      },
      "execution_count": 7,
      "outputs": []
    },
    {
      "cell_type": "code",
      "source": [
        "def main():\n",
        "    # Read original data\n",
        "    df = pd.read_csv('/content/BABY.csv')\n",
        "    df = preprocess_data(df)\n",
        "\n",
        "    # Generate synthetic data\n",
        "    random_df = random_sampler(df)\n",
        "    gaussian_df = gaussian_noise_sampling(df)\n",
        "    interp_df = interpolation_sampling(df)\n",
        "    bootstrap_df = bootstrap_sampling(df)\n",
        "\n",
        "    # Save generated datasets\n",
        "    random_df.to_csv('BABY_randsam.csv', index=False)\n",
        "    gaussian_df.to_csv('BABY_gaussian.csv', index=False)\n",
        "    interp_df.to_csv('BABY_interp.csv', index=False)\n",
        "    bootstrap_df.to_csv('BABY_bootstrap.csv', index=False)\n",
        "\n",
        "    # Evaluate correlations\n",
        "    scores = {\n",
        "        'Random Sampling': evaluate_correlation(df, random_df, 'Random Sampling'),\n",
        "        'Gaussian Noise': evaluate_correlation(df, gaussian_df, 'Gaussian Noise'),\n",
        "        'Interpolation': evaluate_correlation(df, interp_df, 'Interpolation'),\n",
        "        'Bootstrap': evaluate_correlation(df, bootstrap_df, 'Bootstrap')\n",
        "    }\n",
        "\n",
        "    best_method = min(scores.items(), key=lambda x: x[1])[0]\n",
        "    print(f\"\\nBest performing method: {best_method}\")\n",
        "\n",
        "if __name__ == \"__main__\":\n",
        "    main()"
      ],
      "metadata": {
        "colab": {
          "base_uri": "https://localhost:8080/"
        },
        "id": "-RVOenYY-x7M",
        "outputId": "d6573a98-c466-4722-ec0b-5ab7a04d75cb"
      },
      "execution_count": 8,
      "outputs": [
        {
          "output_type": "stream",
          "name": "stdout",
          "text": [
            "Random Sampling - Mean Correlation Difference: 0.002065961389369605\n",
            "Gaussian Noise - Mean Correlation Difference: 0.1501243921456168\n",
            "Interpolation - Mean Correlation Difference: 0.005398021380687992\n",
            "Bootstrap - Mean Correlation Difference: 0.024399172272119844\n",
            "\n",
            "Best performing method: Random Sampling\n"
          ]
        }
      ]
    }
  ]
}